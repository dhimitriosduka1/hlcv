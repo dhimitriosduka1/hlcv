{
  "cells": [
    {
      "cell_type": "code",
      "execution_count": null,
      "metadata": {},
      "outputs": [],
      "source": [
        "# Just so that you don't have to restart the notebook with every change.\n",
        "%load_ext autoreload\n",
        "%autoreload 2"
      ]
    },
    {
      "cell_type": "markdown",
      "metadata": {
        "id": "98Sf20yaOUOp"
      },
      "source": [
        "### **Setup Environment**"
      ]
    },
    {
      "cell_type": "code",
      "execution_count": null,
      "metadata": {
        "colab": {
          "base_uri": "https://localhost:8080/"
        },
        "id": "L5muLmO6LK-d",
        "outputId": "82b584f5-8baa-4a92-e5cf-a5e9d1d7c203"
      },
      "outputs": [],
      "source": [
        "!python -m pip install pyyaml==5.1\n",
        "import sys, os, distutils.core\n",
        "# Note: This is a faster way to install detectron2 in Colab, but it does not include all functionalities (e.g. compiled operators).\n",
        "# See https://detectron2.readthedocs.io/tutorials/install.html for full installation instructions\n",
        "!git clone 'https://github.com/facebookresearch/detectron2'\n",
        "dist = distutils.core.run_setup(\"./detectron2/setup.py\")\n",
        "!python -m pip install {' '.join([f\"'{x}'\" for x in dist.install_requires])}\n",
        "sys.path.insert(0, os.path.abspath('./detectron2'))\n",
        "\n",
        "# Properly install detectron2. (Please do not install twice in both ways)\n",
        "# !python -m pip install 'git+https://github.com/facebookresearch/detectron2.git'"
      ]
    },
    {
      "cell_type": "code",
      "execution_count": null,
      "metadata": {
        "colab": {
          "base_uri": "https://localhost:8080/"
        },
        "id": "AzWOVQiHMtJ6",
        "outputId": "12098f8f-fab6-4841-8a6f-f4d2d86a583e"
      },
      "outputs": [],
      "source": [
        "import torch, detectron2\n",
        "!nvcc --version\n",
        "TORCH_VERSION = \".\".join(torch.__version__.split(\".\")[:2])\n",
        "CUDA_VERSION = torch.__version__.split(\"+\")[-1]\n",
        "print(\"torch: \", TORCH_VERSION, \"; cuda: \", CUDA_VERSION)\n",
        "print(\"detectron2:\", detectron2.__version__)"
      ]
    },
    {
      "cell_type": "code",
      "execution_count": null,
      "metadata": {
        "colab": {
          "base_uri": "https://localhost:8080/"
        },
        "id": "NQajicCiOSBm",
        "outputId": "f127c29f-1d50-4a53-b3c8-14b585cc2064"
      },
      "outputs": [],
      "source": [
        "!git clone https://github.com/CamiloMartinezM/ultralytics.git\n",
        "%cd /content/ultralytics\n",
        "!pip install -e .\n",
        "!pip install roboflow\n",
        "!pip install -U transformers\n",
        "!pip install datasets\n",
        "!pip install wandb\n",
        "!pip install accelerate -U\n",
        "!pip install python-dotenv\n",
        "%cd /content"
      ]
    },
    {
      "cell_type": "code",
      "execution_count": null,
      "metadata": {
        "colab": {
          "base_uri": "https://localhost:8080/"
        },
        "id": "hLEwVZQyanxm",
        "outputId": "f2c63576-955d-433f-926e-c635f94ffc44"
      },
      "outputs": [],
      "source": [
        "from importlib.util import find_spec\n",
        "import os\n",
        "import shutil\n",
        "\n",
        "if find_spec(\"google\"):\n",
        "    from google.colab import userdata\n",
        "    if userdata.get(\"REPO_API_KEY\"):\n",
        "        os.environ[\"REPO_API_KEY\"] = userdata.get(\"REPO_API_KEY\")\n",
        "\n",
        "URL = f\"https://{os.getenv('REPO_API_KEY')}@github.com/dhimitriosduka1/hlcv.git\"\n",
        "!git clone {URL}\n",
        "\n",
        "source_dir = \"/content/hlcv/Project/src/fretboard-recognition/\"\n",
        "destination_dir = \"/content/\"\n",
        "\n",
        "# Iterate through all items in the source directory\n",
        "for item in os.listdir(source_dir):\n",
        "    source_item = os.path.join(source_dir, item)\n",
        "    destination_item = os.path.join(destination_dir, item)\n",
        "    if os.path.exists(destination_item):\n",
        "        !rm -rf {destination_item}\n",
        "    shutil.move(source_item, destination_item)\n",
        "\n",
        "!rm -rf /content/hlcv\n",
        "!python /content/validate/download_coco.py"
      ]
    },
    {
      "cell_type": "code",
      "execution_count": null,
      "metadata": {
        "colab": {
          "base_uri": "https://localhost:8080/"
        },
        "id": "WMTdDC06PzP4",
        "outputId": "25321d5a-9960-4fa6-e29a-24cda81132e2"
      },
      "outputs": [],
      "source": [
        "from make_custom_coco import main as make_custom_coco\n",
        "make_custom_coco()"
      ]
    },
    {
      "cell_type": "markdown",
      "metadata": {
        "id": "gdWXelmxPB7q"
      },
      "source": [
        "### **Training an R-CNN (with `detectron2`)**"
      ]
    },
    {
      "cell_type": "code",
      "execution_count": null,
      "metadata": {
        "id": "2r1PQg3YRE6s"
      },
      "outputs": [],
      "source": [
        "import os\n",
        "import detectron2\n",
        "from detectron2 import model_zoo\n",
        "from detectron2.config import get_cfg\n",
        "from detectron2.engine import DefaultTrainer\n",
        "from detectron2.utils.logger import setup_logger\n",
        "from detectron2.data.datasets import register_coco_instances\n",
        "\n",
        "setup_logger()\n",
        "\n",
        "# Useful constants\n",
        "CURRENT_DIR = os.getcwd()\n",
        "DATASETS_DIR = os.path.join(CURRENT_DIR, \"data\")\n",
        "\n",
        "CUSTOM_DATASET_NAME = \"guitar-necks-detector\"\n",
        "DATASET_DIR = os.path.join(DATASETS_DIR, CUSTOM_DATASET_NAME)\n",
        "\n",
        "# Set up the dataset in data/{CUSTOM_DATASET_NAME}\n",
        "for set_ in [\"train\", \"valid\", \"test\"]:\n",
        "    register_coco_instances(\n",
        "        f\"{CUSTOM_DATASET_NAME}_{set_}\",\n",
        "        {},\n",
        "        os.path.join(DATASETS_DIR, CUSTOM_DATASET_NAME, set_, \"labels\", \"_annotations.coco.json\"),\n",
        "        os.path.join(DATASETS_DIR, CUSTOM_DATASET_NAME, set_, \"images\"),\n",
        "    )"
      ]
    },
    {
      "cell_type": "code",
      "execution_count": null,
      "metadata": {
        "colab": {
          "base_uri": "https://localhost:8080/",
          "height": 371
        },
        "id": "AYf0Fk_ZRvB0",
        "outputId": "2528f283-921e-403d-c2ea-3535031067a2"
      },
      "outputs": [],
      "source": [
        "cfg = get_cfg()\n",
        "cfg.merge_from_file(model_zoo.get_config_file(\"COCO-InstanceSegmentation/mask_rcnn_R_50_FPN_3x.yaml\"))\n",
        "cfg.DATASETS.TRAIN = (f\"{CUSTOM_DATASET_NAME}_train\")\n",
        "cfg.DATASETS.TEST = ()\n",
        "cfg.DATALOADER.NUM_WORKERS = 2\n",
        "cfg.MODEL.WEIGHTS = model_zoo.get_checkpoint_url(\"COCO-InstanceSegmentation/mask_rcnn_R_50_FPN_3x.yaml\")\n",
        "cfg.SOLVER.IMS_PER_BATCH = 32\n",
        "cfg.SOLVER.BASE_LR = 0.00025\n",
        "cfg.SOLVER.MAX_ITER = 1000\n",
        "cfg.MODEL.ROI_HEADS.BATCH_SIZE_PER_IMAGE = 128   # The \"RoIHead batch size\". 128 is faster, and good enough for this toy dataset (default: 512)\n",
        "cfg.MODEL.ROI_HEADS.NUM_CLASSES = 1  # only has one class (ballon). (see https://detectron2.readthedocs.io/tutorials/datasets.html#update-the-config-for-new-datasets)\n",
        "# NOTE: this config means the number of classes, but a few popular unofficial tutorials incorrect uses num_classes+1 here.\n",
        "\n",
        "os.makedirs(cfg.OUTPUT_DIR, exist_ok=True)\n",
        "trainer = DefaultTrainer(cfg)\n",
        "trainer.resume_or_load(resume=False)\n",
        "trainer.train()"
      ]
    },
    {
      "cell_type": "code",
      "execution_count": null,
      "metadata": {
        "id": "IbOKb7D1Of7g",
        "outputId": "8c8a668f-ca80-442c-e336-85aad466a766"
      },
      "outputs": [],
      "source": [
        "import os\n",
        "import shutil\n",
        "from datetime import datetime\n",
        "from gc import collect as garbage_collect\n",
        "from warnings import warn\n",
        "\n",
        "import torch\n",
        "import yaml\n",
        "from datasets import load_dataset\n",
        "from dotenv import load_dotenv\n",
        "from roboflow import Roboflow\n",
        "from torch.cuda import empty_cache as cuda_empty_cache\n",
        "from torch.cuda import mem_get_info\n",
        "\n",
        "load_dotenv()  # load environment variables stored in .env file (e.g., API keys)\n",
        "\n",
        "# Useful constants\n",
        "CURRENT_DIR = os.getcwd()\n",
        "DATASETS_DIR = os.path.join(CURRENT_DIR, \"data\")\n",
        "\n",
        "# Useful functions\n",
        "\n",
        "\n",
        "def clean_cache():\n",
        "    \"\"\"Cleans the GPU memory cache.\"\"\"\n",
        "    garbage_collect()\n",
        "    cuda_empty_cache()\n",
        "    mem_info = mem_get_info()\n",
        "    print(\n",
        "        f\"Freeing GPU Memory\\nFree: %d MB\\tTotal: %d MB\"\n",
        "        % (mem_info[0] // 1024**2, mem_info[1] // 1024**2)\n",
        "    )\n",
        "\n",
        "\n",
        "def safe_save(model: torch.nn.Module, final_model_path: str) -> None:\n",
        "    \"\"\"Saves a model to a file, ensuring that the file does not already exist. If it does, it\n",
        "    renames the existing file.\"\"\"\n",
        "    # Ensure the directory exists\n",
        "    os.makedirs(os.path.dirname(final_model_path), exist_ok=True)\n",
        "\n",
        "    if os.path.exists(final_model_path):\n",
        "        # Get current timestamp\n",
        "        timestamp = datetime.now().strftime(\"%Y%m%d_%H_%M_%S\")\n",
        "\n",
        "        # Split the path into directory, filename, and extension\n",
        "        directory, filename = os.path.split(final_model_path)\n",
        "        name, ext = os.path.splitext(filename)\n",
        "\n",
        "        # Create new filename with timestamp\n",
        "        new_filename = f\"{name}_{timestamp}{ext}\"\n",
        "        new_path = os.path.join(directory, new_filename)\n",
        "\n",
        "        warn(f\"{final_model_path} already exists. Renaming existing file to: {new_filename}\")\n",
        "\n",
        "        # Rename the existing file\n",
        "        shutil.move(final_model_path, new_path)\n",
        "\n",
        "    # Save the new model\n",
        "    model.save(final_model_path)\n",
        "    print(f\"New model saved as: {final_model_path}\")\n",
        "\n",
        "\n",
        "def load_config(config_path: str) -> dict:\n",
        "    \"\"\"Loads a YAML config file.\"\"\"\n",
        "    with open(config_path, \"r\") as file:\n",
        "        return yaml.safe_load(file)\n",
        "\n",
        "\n",
        "def to_path(*args):\n",
        "    \"\"\"Converts a list of strings into a path, from the current directory saved in `CURRENT_DIR`.\"\"\"\n",
        "    # If \"/\" is present in one of the strings, it is separated into a list of strings, such that we\n",
        "    # use the safe `os.path.join` function.\n",
        "    path_parts = []\n",
        "    for arg in args:\n",
        "        if '/' in arg:\n",
        "            path_parts.extend(arg.split('/'))\n",
        "        else:\n",
        "            path_parts.append(arg)\n",
        "\n",
        "    return os.path.join(CURRENT_DIR, *path_parts)\n",
        "\n",
        "\n",
        "def download_from(config: dict) -> None:\n",
        "    \"\"\"Downloads a dataset using the loaded `config`. It must have the following structure:\n",
        "\n",
        "    ```\n",
        "    data:\n",
        "        dataset: e.g., \"guitar-necks-detector\" or \"dduka/guitar-chords\" # The name of the dataset\n",
        "        load:\n",
        "            interface: \"roboflow\" or \"datasets\"\n",
        "            # (These must be available only if interface is \"roboflow\":)\n",
        "            workspace: \"...\"\n",
        "            project-version: \"1\"\n",
        "            version-download: \"...\"\n",
        "    ```\n",
        "    \"\"\"\n",
        "    if config[\"data\"][\"load\"][\"interface\"] == \"roboflow\":\n",
        "        # Test if a ROBOFLOW_API_KEY is available\n",
        "        if not os.getenv(\"ROBOFLOW_API_KEY\"):\n",
        "            from importlib.util import find_spec\n",
        "\n",
        "            if find_spec(\"google\"):\n",
        "                from google.colab import userdata\n",
        "                if userdata.get(\"ROBOFLOW_API_KEY\"):\n",
        "                    os.environ[\"ROBOFLOW_API_KEY\"] = userdata.get(\"ROBOFLOW_API_KEY\")\n",
        "            else:\n",
        "                raise ValueError(\n",
        "                    \"ROBOFLOW_API_KEY is not available in the environment variables. \"\n",
        "                    + \"Create a .env file in this directory with the key or in Google \"\n",
        "                    + \"Colab, add it to secret keys.\"\n",
        "                )\n",
        "\n",
        "        # Initialize Roboflow\n",
        "        rf = Roboflow(api_key=os.getenv(\"ROBOFLOW_API_KEY\"))\n",
        "\n",
        "        # Access the workspace and project\n",
        "        project = rf.workspace(config[\"data\"][\"load\"][\"workspace\"]).project(\n",
        "            config[\"data\"][\"dataset\"]\n",
        "        )\n",
        "        version = project.version(config[\"data\"][\"load\"][\"project-version\"])\n",
        "        dataset_path = os.path.join(DATASETS_DIR, config[\"data\"][\"dataset\"])\n",
        "        ds = version.download(config[\"data\"][\"load\"][\"version-download\"], location=dataset_path)\n",
        "    elif config[\"data\"][\"load\"][\"interface\"] == \"datasets\":\n",
        "        dataset_path = os.path.join(DATASETS_DIR, config[\"data\"][\"dataset\"])\n",
        "        ds = load_dataset(\"dduka/guitar-chords\", cache_dir=dataset_path)\n",
        "\n",
        "    return ds, dataset_path"
      ]
    },
    {
      "cell_type": "code",
      "execution_count": null,
      "metadata": {
        "id": "iOL6wH_AaDHp"
      },
      "outputs": [],
      "source": [
        "FINAL_MODELS_DIR = to_path(\"final_models\")\n",
        "ORIGINAL_MODELS_DIR = to_path(\"original_models\")\n",
        "IMAGES_DIR = to_path(\"images\")"
      ]
    },
    {
      "cell_type": "code",
      "execution_count": null,
      "metadata": {
        "id": "I-N18Jy0aDHp"
      },
      "outputs": [],
      "source": [
        "f_run_config = \"config-yolo-v9.yml\"\n",
        "f_wandb_config = \"wandb.yml\""
      ]
    },
    {
      "cell_type": "code",
      "execution_count": null,
      "metadata": {
        "id": "xl6U1UgkaDHp"
      },
      "outputs": [],
      "source": [
        "# Load configuration\n",
        "config = load_config(to_path(f_run_config))\n",
        "wandb_config = load_config(to_path(f_wandb_config))"
      ]
    },
    {
      "cell_type": "markdown",
      "metadata": {
        "id": "olZ4zj3baDHp"
      },
      "source": [
        "### **Training an R-CNN (with `fasterrcnn_resnet50_fpn`)**"
      ]
    },
    {
      "cell_type": "code",
      "execution_count": null,
      "metadata": {},
      "outputs": [],
      "source": [
        "from make_custom_coco import main as make_custom_coco\n",
        "\n",
        "# This will download the guitar-necks-detector dataset from Roboflow and create a custom COCO\n",
        "# dataset from it in data/\n",
        "make_custom_coco()"
      ]
    },
    {
      "cell_type": "code",
      "execution_count": 1,
      "metadata": {},
      "outputs": [
        {
          "name": "stderr",
          "output_type": "stream",
          "text": [
            "/home/camilo/Repositorios/venvs/venv_rapids_24.06/lib/python3.11/site-packages/tqdm/auto.py:21: TqdmWarning: IProgress not found. Please update jupyter and ipywidgets. See https://ipywidgets.readthedocs.io/en/stable/user_install.html\n",
            "  from .autonotebook import tqdm as notebook_tqdm\n"
          ]
        },
        {
          "name": "stdout",
          "output_type": "stream",
          "text": [
            "Fretboard class label: 12\n",
            "The directory /home/camilo/Repositorios/hlcv/Project/src/fretboard-recognition/data/guitar-necks-detector exists.\n"
          ]
        }
      ],
      "source": [
        "import os\n",
        "\n",
        "import numpy as np\n",
        "import torch\n",
        "import wandb\n",
        "from general_config import Config\n",
        "from torchvision.io import read_image\n",
        "from transformers import EarlyStoppingCallback, Trainer, TrainingArguments\n",
        "\n",
        "from common.callbacks import CustomWandbCallback\n",
        "from common.collate_util import collate_fn\n",
        "from common.configs import FasterRCNNDefaultConfig\n",
        "from common.custom_datasets import GuitarNeckDataset\n",
        "from common.metrics import compute_metrics, log_table_data\n",
        "from common.models import FasterRCNN\n",
        "from common.utils import (\n",
        "    as_255,\n",
        "    available_device,\n",
        "    clean_cache,\n",
        "    ensure_directory_exists,\n",
        "    get_coco_names,\n",
        "    get_custom_coco,\n",
        "    load_config,\n",
        "    predict,\n",
        "    safe_save,\n",
        "    show,\n",
        ")\n",
        "from common.visualization import draw_colored_boxes\n",
        "\n",
        "# Constants\n",
        "CUSTOM_DATASET_NAME = \"guitar-necks-detector\"\n",
        "DATASET_DIR = os.path.join(Config.DATA_DIR, CUSTOM_DATASET_NAME)\n",
        "COCO_NAMES = get_coco_names()\n",
        "CUSTOM_COCO_NAMES, FRETBOARD_CLASS_LABEL = get_custom_coco(\"fretboard\")\n",
        "\n",
        "print(f\"Fretboard class label: {FRETBOARD_CLASS_LABEL}\")\n",
        "\n",
        "# Ensure the directory exist\n",
        "ensure_directory_exists(DATASET_DIR, make=False)"
      ]
    },
    {
      "cell_type": "code",
      "execution_count": 2,
      "metadata": {},
      "outputs": [
        {
          "name": "stdout",
          "output_type": "stream",
          "text": [
            "Using GPU for training\n"
          ]
        }
      ],
      "source": [
        "# Load the model and wandb configuration\n",
        "config = load_config(os.path.join(Config.CONFIGS_DIR, \"config-fast-rcnn.yml\"))\n",
        "wandb_config = load_config(os.path.join(Config.CONFIGS_DIR, \"wandb.yml\"))\n",
        "\n",
        "# Load the FasterRCNN model with the configuration\n",
        "model_config = FasterRCNNDefaultConfig(**config[\"model\"])\n",
        "model = FasterRCNN(model_config)\n",
        "model = model.to(available_device(verbose=True))"
      ]
    },
    {
      "cell_type": "code",
      "execution_count": 3,
      "metadata": {},
      "outputs": [],
      "source": [
        "# Create datasets for each split\n",
        "train_dataset, eval_dataset, test_dataset = GuitarNeckDataset.from_dir(\n",
        "    root_dir=DATASET_DIR,\n",
        "    transforms=model.get_transforms(),\n",
        "    class_label=FRETBOARD_CLASS_LABEL,\n",
        ")"
      ]
    },
    {
      "cell_type": "code",
      "execution_count": 4,
      "metadata": {},
      "outputs": [
        {
          "data": {
            "image/png": "[encoded data removed]",
            "text/plain": [
              "<Figure size 640x480 with 2 Axes>"
            ]
          },
          "metadata": {},
          "output_type": "display_data"
        }
      ],
      "source": [
        "# Inference test before fine-tuning\n",
        "model.eval()\n",
        "\n",
        "image, target = train_dataset[45]\n",
        "\n",
        "boxes, classes, labels = predict(image, model, available_device(), 0.6, 0.2, names=COCO_NAMES)\n",
        "\n",
        "# Draw bounding boxes.\n",
        "drawn_boxes = draw_colored_boxes(\n",
        "    image, boxes, classes=classes, class_names=CUSTOM_COCO_NAMES, show=False\n",
        ")\n",
        "drawn_boxes2 = draw_colored_boxes(\n",
        "    image,\n",
        "    target[\"boxes\"],\n",
        "    classes=target[\"labels\"].tolist(),\n",
        "    class_names=CUSTOM_COCO_NAMES,\n",
        "    show=False,\n",
        ")\n",
        "show([drawn_boxes, drawn_boxes2], titles=[\"Pre-Trained COCO Weights\", \"Annotated for Guitar Necks\"])"
      ]
    },
    {
      "cell_type": "code",
      "execution_count": 5,
      "metadata": {},
      "outputs": [
        {
          "name": "stderr",
          "output_type": "stream",
          "text": [
            "Failed to detect the name of this notebook, you can set it manually with the WANDB_NOTEBOOK_NAME environment variable to enable code saving.\n"
          ]
        },
        {
          "name": "stdout",
          "output_type": "stream",
          "text": [
            "Freeing GPU Memory\n",
            "Free: 7390 MB\tTotal: 7843 MB\n"
          ]
        },
        {
          "name": "stderr",
          "output_type": "stream",
          "text": [
            "\u001b[34m\u001b[1mwandb\u001b[0m: Currently logged in as: \u001b[33mcama00005\u001b[0m (\u001b[33mhwga-cj\u001b[0m). Use \u001b[1m`wandb login --relogin`\u001b[0m to force relogin\n"
          ]
        },
        {
          "data": {
            "text/html": [
              "Tracking run with wandb version 0.17.5"
            ],
            "text/plain": [
              "<IPython.core.display.HTML object>"
            ]
          },
          "metadata": {},
          "output_type": "display_data"
        },
        {
          "data": {
            "text/html": [
              "Run data is saved locally in <code>/home/camilo/Repositorios/hlcv/Project/src/fretboard-recognition/wandb/run-20240726_175912-051lzj15</code>"
            ],
            "text/plain": [
              "<IPython.core.display.HTML object>"
            ]
          },
          "metadata": {},
          "output_type": "display_data"
        },
        {
          "data": {
            "text/html": [
              "Syncing run <strong><a href='https://wandb.ai/hwga-cj/fretboard-recognition/runs/051lzj15' target=\"_blank\">faster_rcnn-izpur1g7</a></strong> to <a href='https://wandb.ai/hwga-cj/fretboard-recognition' target=\"_blank\">Weights & Biases</a> (<a href='https://wandb.me/run' target=\"_blank\">docs</a>)<br/>"
            ],
            "text/plain": [
              "<IPython.core.display.HTML object>"
            ]
          },
          "metadata": {},
          "output_type": "display_data"
        },
        {
          "data": {
            "text/html": [
              " View project at <a href='https://wandb.ai/hwga-cj/fretboard-recognition' target=\"_blank\">https://wandb.ai/hwga-cj/fretboard-recognition</a>"
            ],
            "text/plain": [
              "<IPython.core.display.HTML object>"
            ]
          },
          "metadata": {},
          "output_type": "display_data"
        },
        {
          "data": {
            "text/html": [
              " View run at <a href='https://wandb.ai/hwga-cj/fretboard-recognition/runs/051lzj15' target=\"_blank\">https://wandb.ai/hwga-cj/fretboard-recognition/runs/051lzj15</a>"
            ],
            "text/plain": [
              "<IPython.core.display.HTML object>"
            ]
          },
          "metadata": {},
          "output_type": "display_data"
        },
        {
          "name": "stderr",
          "output_type": "stream",
          "text": [
            "  0%|          | 0/2320 [00:00<?, ?it/s]Could not estimate the number of tokens of the input, floating-point operations will not be computed\n",
            "  5%|▌         | 116/2320 [01:15<18:10,  2.02it/s]"
          ]
        },
        {
          "name": "stdout",
          "output_type": "stream",
          "text": [
            "{'loss': 0.4331, 'grad_norm': 0.6575573086738586, 'learning_rate': 2.32e-05, 'epoch': 1.0}\n"
          ]
        },
        {
          "name": "stderr",
          "output_type": "stream",
          "text": [
            "                                                  \n",
            "  5%|▌         | 116/2320 [01:20<18:10,  2.02it/s]"
          ]
        },
        {
          "name": "stdout",
          "output_type": "stream",
          "text": [
            "{'eval_loss': 0.0, 'eval_mAP50': 0.0, 'eval_mAP50-95': 0.0, 'eval_precision': 0.0, 'eval_recall': 0.0, 'eval_runtime': 4.3286, 'eval_samples_per_second': 20.33, 'eval_steps_per_second': 2.541, 'epoch': 1.0}\n"
          ]
        },
        {
          "name": "stderr",
          "output_type": "stream",
          "text": [
            " 10%|█         | 232/2320 [02:40<24:53,  1.40it/s]  "
          ]
        },
        {
          "name": "stdout",
          "output_type": "stream",
          "text": [
            "{'loss': 0.2768, 'grad_norm': 6.90880823135376, 'learning_rate': 4.64e-05, 'epoch': 2.0}\n"
          ]
        },
        {
          "name": "stderr",
          "output_type": "stream",
          "text": [
            "                                                  \n",
            " 10%|█         | 232/2320 [02:45<24:53,  1.40it/s]"
          ]
        },
        {
          "name": "stdout",
          "output_type": "stream",
          "text": [
            "{'eval_loss': 0.0, 'eval_mAP50': 0.9158065319061279, 'eval_mAP50-95': 0.5214001536369324, 'eval_precision': 0.24920509450497694, 'eval_recall': 0.2762894906511928, 'eval_runtime': 4.8974, 'eval_samples_per_second': 17.969, 'eval_steps_per_second': 2.246, 'epoch': 2.0}\n"
          ]
        },
        {
          "name": "stderr",
          "output_type": "stream",
          "text": [
            " 15%|█▌        | 348/2320 [04:05<23:14,  1.41it/s]  "
          ]
        },
        {
          "name": "stdout",
          "output_type": "stream",
          "text": [
            "{'loss': 0.1386, 'grad_norm': 3.487924814224243, 'learning_rate': 6.96e-05, 'epoch': 3.0}\n"
          ]
        },
        {
          "name": "stderr",
          "output_type": "stream",
          "text": [
            "                                                  \n",
            " 15%|█▌        | 348/2320 [04:10<23:14,  1.41it/s]"
          ]
        },
        {
          "name": "stdout",
          "output_type": "stream",
          "text": [
            "{'eval_loss': 0.0, 'eval_mAP50': 0.9445019960403442, 'eval_mAP50-95': 0.6074864864349365, 'eval_precision': 0.30583147026502355, 'eval_recall': 0.3258292141270865, 'eval_runtime': 4.8404, 'eval_samples_per_second': 18.18, 'eval_steps_per_second': 2.273, 'epoch': 3.0}\n"
          ]
        },
        {
          "name": "stderr",
          "output_type": "stream",
          "text": [
            " 16%|█▌        | 364/2320 [04:22<23:37,  1.38it/s]  "
          ]
        }
      ],
      "source": [
        "clean_cache()\n",
        "\n",
        "model.train()\n",
        "\n",
        "# Initialize wandb\n",
        "run_name = config[\"model\"][\"name\"] + \"-\" + wandb.util.generate_id()\n",
        "wandb.init(\n",
        "    project=wandb_config[\"project\"],\n",
        "    name=run_name,\n",
        "    entity=wandb_config[\"entity\"],\n",
        "    config=config,\n",
        ")\n",
        "\n",
        "# Define training arguments\n",
        "training_args = TrainingArguments(\n",
        "    output_dir=config[\"training\"][\"output_dir\"],\n",
        "    num_train_epochs=config[\"training\"][\"num_epochs\"],\n",
        "    per_device_train_batch_size=config[\"training\"][\"batch_size\"],\n",
        "    per_device_eval_batch_size=config[\"training\"][\"batch_size\"],\n",
        "    logging_dir=config[\"training\"][\"logging_dir\"],\n",
        "    logging_steps=config[\"training\"][\"logging_steps\"],\n",
        "    warmup_steps=config[\"training\"][\"warmup_steps\"] if \"warmup_steps\" in config[\"training\"] else 0,\n",
        "    weight_decay=config[\"training\"][\"weight_decay\"] if \"weight_decay\" in config[\"training\"] else 0,\n",
        "    eval_strategy=config[\"training\"][\"eval_strategy\"],\n",
        "    save_strategy=config[\"training\"][\"eval_strategy\"],\n",
        "    # eval_steps=config[\"training\"][\"eval_steps\"],\n",
        "    load_best_model_at_end=True,\n",
        "    report_to=\"wandb\",\n",
        "    run_name=run_name,\n",
        "    metric_for_best_model=\"mAP50\",\n",
        "    learning_rate=float(config[\"training\"][\"learning_rate\"]),\n",
        "    greater_is_better=True,\n",
        "    logging_strategy=config[\"training\"][\"eval_strategy\"],\n",
        ")\n",
        "\n",
        "early_stopping_callback = EarlyStoppingCallback(\n",
        "    early_stopping_patience=config[\"training\"].get(\"early_stopping_patience\", 3)\n",
        ")\n",
        "\n",
        "my_wandb_callback = CustomWandbCallback()\n",
        "\n",
        "# Initialize Trainer\n",
        "trainer = Trainer(\n",
        "    model=model,\n",
        "    args=training_args,\n",
        "    train_dataset=train_dataset,\n",
        "    eval_dataset=eval_dataset,\n",
        "    callbacks=[early_stopping_callback, my_wandb_callback],\n",
        "    compute_metrics=compute_metrics,\n",
        "    data_collator=collate_fn,\n",
        ")\n",
        "\n",
        "# Start training\n",
        "trainer.train()"
      ]
    },
    {
      "cell_type": "code",
      "execution_count": null,
      "metadata": {},
      "outputs": [],
      "source": [
        "# Clean the GPU memory cache\n",
        "clean_cache()\n",
        "\n",
        "# Log table data at the end of training\n",
        "log_table_data(trainer, per_device_eval_batch_size=8)\n",
        "\n",
        "# Save the final model\n",
        "safe_save(trainer, os.path.join(Config.FINAL_MODELS_DIR, config[\"model\"][\"name\"]))\n",
        "\n",
        "# Evaluate on test set if available\n",
        "if test_dataset:\n",
        "    test_results = trainer.evaluate(test_dataset)\n",
        "    print(f\"Test results: {test_results}\")\n",
        "    wandb.log({\"test\": test_results})\n",
        "\n",
        "# Finish wandb run\n",
        "wandb.finish()"
      ]
    },
    {
      "cell_type": "code",
      "execution_count": null,
      "metadata": {},
      "outputs": [],
      "source": [
        "model.eval()\n",
        "\n",
        "image, target = train_dataset[45]\n",
        "\n",
        "boxes, classes, labels = predict(\n",
        "    image, model, available_device(), 0.2, 0.2, names=CUSTOM_COCO_NAMES\n",
        ")\n",
        "\n",
        "# Draw bounding boxes.\n",
        "drawn_boxes = draw_colored_boxes(\n",
        "    image, boxes, classes=classes, class_names=CUSTOM_COCO_NAMES, show=False\n",
        ")\n",
        "drawn_boxes2 = draw_colored_boxes(\n",
        "    image,\n",
        "    target[\"boxes\"],\n",
        "    classes=target[\"labels\"].tolist(),\n",
        "    class_names=CUSTOM_COCO_NAMES,\n",
        "    show=False,\n",
        ")\n",
        "show([drawn_boxes, drawn_boxes2], titles=[\"Fast R-CNN Prediction\", \"Fretboard Annotation\"])\n",
        "print(f\"Predicted classes: {np.unique(classes)}\")"
      ]
    },
    {
      "cell_type": "code",
      "execution_count": null,
      "metadata": {},
      "outputs": [],
      "source": [
        "model.eval()\n",
        "\n",
        "img_path = os.path.join(Config.IMAGES_DIR, \"FudanPed00054.png\")\n",
        "orig_img = read_image(img_path)\n",
        "\n",
        "boxes, classes, labels = predict(\n",
        "    orig_img,\n",
        "    model,\n",
        "    available_device(),\n",
        "    0.1,\n",
        "    0.1,\n",
        "    model_transforms=model.get_transforms(),\n",
        "    names=CUSTOM_COCO_NAMES,\n",
        ")\n",
        "\n",
        "drawn_boxes = draw_colored_boxes(orig_img, boxes, classes=classes, class_names=CUSTOM_COCO_NAMES)\n",
        "print(f\"Predicted classes: {np.unique(classes)}\")"
      ]
    },
    {
      "cell_type": "code",
      "execution_count": null,
      "metadata": {},
      "outputs": [],
      "source": [
        "model.eval()\n",
        "\n",
        "image, target = train_dataset[45]\n",
        "\n",
        "boxes, classes, labels = predict(\n",
        "    image, model, available_device(), 0.2, 0.2, names=CUSTOM_COCO_NAMES\n",
        ")\n",
        "\n",
        "# Draw bounding boxes.\n",
        "drawn_boxes = draw_colored_boxes(image, boxes, classes=classes, class_names=CUSTOM_COCO_NAMES)\n",
        "print(f\"Predicted classes: {np.unique(classes)}\")"
      ]
    }
  ],
  "metadata": {
    "accelerator": "GPU",
    "colab": {
      "gpuType": "T4",
      "provenance": []
    },
    "kernelspec": {
      "display_name": "Python 3",
      "name": "python3"
    },
    "language_info": {
      "codemirror_mode": {
        "name": "ipython",
        "version": 3
      },
      "file_extension": ".py",
      "mimetype": "text/x-python",
      "name": "python",
      "nbconvert_exporter": "python",
      "pygments_lexer": "ipython3",
      "version": "3.11.9"
    },
    "widgets": {
      "application/vnd.jupyter.widget-state+json": {
        "02832cfbe33749a4ab931aaadcc73ea4": {
          "model_module": "@jupyter-widgets/controls",
          "model_module_version": "1.5.0",
          "model_name": "ProgressStyleModel",
          "state": {
            "_model_module": "@jupyter-widgets/controls",
            "_model_module_version": "1.5.0",
            "_model_name": "ProgressStyleModel",
            "_view_count": null,
            "_view_module": "@jupyter-widgets/base",
            "_view_module_version": "1.2.0",
            "_view_name": "StyleView",
            "bar_color": null,
            "description_width": ""
          }
        },
        "13ece419c8b645199442c17e51f93b3b": {
          "model_module": "@jupyter-widgets/base",
          "model_module_version": "1.2.0",
          "model_name": "LayoutModel",
          "state": {
            "_model_module": "@jupyter-widgets/base",
            "_model_module_version": "1.2.0",
            "_model_name": "LayoutModel",
            "_view_count": null,
            "_view_module": "@jupyter-widgets/base",
            "_view_module_version": "1.2.0",
            "_view_name": "LayoutView",
            "align_content": null,
            "align_items": null,
            "align_self": null,
            "border": null,
            "bottom": null,
            "display": null,
            "flex": null,
            "flex_flow": null,
            "grid_area": null,
            "grid_auto_columns": null,
            "grid_auto_flow": null,
            "grid_auto_rows": null,
            "grid_column": null,
            "grid_gap": null,
            "grid_row": null,
            "grid_template_areas": null,
            "grid_template_columns": null,
            "grid_template_rows": null,
            "height": null,
            "justify_content": null,
            "justify_items": null,
            "left": null,
            "margin": null,
            "max_height": null,
            "max_width": null,
            "min_height": null,
            "min_width": null,
            "object_fit": null,
            "object_position": null,
            "order": null,
            "overflow": null,
            "overflow_x": null,
            "overflow_y": null,
            "padding": null,
            "right": null,
            "top": null,
            "visibility": null,
            "width": null
          }
        },
        "17c3dc9500fe49679de109d6fa1c907f": {
          "model_module": "@jupyter-widgets/controls",
          "model_module_version": "1.5.0",
          "model_name": "FloatProgressModel",
          "state": {
            "_dom_classes": [],
            "_model_module": "@jupyter-widgets/controls",
            "_model_module_version": "1.5.0",
            "_model_name": "FloatProgressModel",
            "_view_count": null,
            "_view_module": "@jupyter-widgets/controls",
            "_view_module_version": "1.5.0",
            "_view_name": "ProgressView",
            "bar_style": "",
            "description": "",
            "description_tooltip": null,
            "layout": "IPY_MODEL_64bb52c7b5584117a066973642bf17e0",
            "max": 1,
            "min": 0,
            "orientation": "horizontal",
            "style": "IPY_MODEL_02832cfbe33749a4ab931aaadcc73ea4",
            "value": 1
          }
        },
        "5dd0c735b4674f6c87af95df0b6f7743": {
          "model_module": "@jupyter-widgets/base",
          "model_module_version": "1.2.0",
          "model_name": "LayoutModel",
          "state": {
            "_model_module": "@jupyter-widgets/base",
            "_model_module_version": "1.2.0",
            "_model_name": "LayoutModel",
            "_view_count": null,
            "_view_module": "@jupyter-widgets/base",
            "_view_module_version": "1.2.0",
            "_view_name": "LayoutView",
            "align_content": null,
            "align_items": null,
            "align_self": null,
            "border": null,
            "bottom": null,
            "display": null,
            "flex": null,
            "flex_flow": null,
            "grid_area": null,
            "grid_auto_columns": null,
            "grid_auto_flow": null,
            "grid_auto_rows": null,
            "grid_column": null,
            "grid_gap": null,
            "grid_row": null,
            "grid_template_areas": null,
            "grid_template_columns": null,
            "grid_template_rows": null,
            "height": null,
            "justify_content": null,
            "justify_items": null,
            "left": null,
            "margin": null,
            "max_height": null,
            "max_width": null,
            "min_height": null,
            "min_width": null,
            "object_fit": null,
            "object_position": null,
            "order": null,
            "overflow": null,
            "overflow_x": null,
            "overflow_y": null,
            "padding": null,
            "right": null,
            "top": null,
            "visibility": null,
            "width": null
          }
        },
        "63670286bc81405fac3c2a974a1c099f": {
          "model_module": "@jupyter-widgets/base",
          "model_module_version": "1.2.0",
          "model_name": "LayoutModel",
          "state": {
            "_model_module": "@jupyter-widgets/base",
            "_model_module_version": "1.2.0",
            "_model_name": "LayoutModel",
            "_view_count": null,
            "_view_module": "@jupyter-widgets/base",
            "_view_module_version": "1.2.0",
            "_view_name": "LayoutView",
            "align_content": null,
            "align_items": null,
            "align_self": null,
            "border": null,
            "bottom": null,
            "display": null,
            "flex": null,
            "flex_flow": null,
            "grid_area": null,
            "grid_auto_columns": null,
            "grid_auto_flow": null,
            "grid_auto_rows": null,
            "grid_column": null,
            "grid_gap": null,
            "grid_row": null,
            "grid_template_areas": null,
            "grid_template_columns": null,
            "grid_template_rows": null,
            "height": null,
            "justify_content": null,
            "justify_items": null,
            "left": null,
            "margin": null,
            "max_height": null,
            "max_width": null,
            "min_height": null,
            "min_width": null,
            "object_fit": null,
            "object_position": null,
            "order": null,
            "overflow": null,
            "overflow_x": null,
            "overflow_y": null,
            "padding": null,
            "right": null,
            "top": null,
            "visibility": null,
            "width": null
          }
        },
        "63dc2c9f9691452cbbbb163680cc79d1": {
          "model_module": "@jupyter-widgets/controls",
          "model_module_version": "1.5.0",
          "model_name": "FloatProgressModel",
          "state": {
            "_dom_classes": [],
            "_model_module": "@jupyter-widgets/controls",
            "_model_module_version": "1.5.0",
            "_model_name": "FloatProgressModel",
            "_view_count": null,
            "_view_module": "@jupyter-widgets/controls",
            "_view_module_version": "1.5.0",
            "_view_name": "ProgressView",
            "bar_style": "",
            "description": "",
            "description_tooltip": null,
            "layout": "IPY_MODEL_5dd0c735b4674f6c87af95df0b6f7743",
            "max": 1,
            "min": 0,
            "orientation": "horizontal",
            "style": "IPY_MODEL_ba39117bf94343b3aa99d6be875c46c5",
            "value": 1
          }
        },
        "64bb52c7b5584117a066973642bf17e0": {
          "model_module": "@jupyter-widgets/base",
          "model_module_version": "1.2.0",
          "model_name": "LayoutModel",
          "state": {
            "_model_module": "@jupyter-widgets/base",
            "_model_module_version": "1.2.0",
            "_model_name": "LayoutModel",
            "_view_count": null,
            "_view_module": "@jupyter-widgets/base",
            "_view_module_version": "1.2.0",
            "_view_name": "LayoutView",
            "align_content": null,
            "align_items": null,
            "align_self": null,
            "border": null,
            "bottom": null,
            "display": null,
            "flex": null,
            "flex_flow": null,
            "grid_area": null,
            "grid_auto_columns": null,
            "grid_auto_flow": null,
            "grid_auto_rows": null,
            "grid_column": null,
            "grid_gap": null,
            "grid_row": null,
            "grid_template_areas": null,
            "grid_template_columns": null,
            "grid_template_rows": null,
            "height": null,
            "justify_content": null,
            "justify_items": null,
            "left": null,
            "margin": null,
            "max_height": null,
            "max_width": null,
            "min_height": null,
            "min_width": null,
            "object_fit": null,
            "object_position": null,
            "order": null,
            "overflow": null,
            "overflow_x": null,
            "overflow_y": null,
            "padding": null,
            "right": null,
            "top": null,
            "visibility": null,
            "width": null
          }
        },
        "7368ce476780436e8c8909c8beaf4c27": {
          "model_module": "@jupyter-widgets/base",
          "model_module_version": "1.2.0",
          "model_name": "LayoutModel",
          "state": {
            "_model_module": "@jupyter-widgets/base",
            "_model_module_version": "1.2.0",
            "_model_name": "LayoutModel",
            "_view_count": null,
            "_view_module": "@jupyter-widgets/base",
            "_view_module_version": "1.2.0",
            "_view_name": "LayoutView",
            "align_content": null,
            "align_items": null,
            "align_self": null,
            "border": null,
            "bottom": null,
            "display": null,
            "flex": null,
            "flex_flow": null,
            "grid_area": null,
            "grid_auto_columns": null,
            "grid_auto_flow": null,
            "grid_auto_rows": null,
            "grid_column": null,
            "grid_gap": null,
            "grid_row": null,
            "grid_template_areas": null,
            "grid_template_columns": null,
            "grid_template_rows": null,
            "height": null,
            "justify_content": null,
            "justify_items": null,
            "left": null,
            "margin": null,
            "max_height": null,
            "max_width": null,
            "min_height": null,
            "min_width": null,
            "object_fit": null,
            "object_position": null,
            "order": null,
            "overflow": null,
            "overflow_x": null,
            "overflow_y": null,
            "padding": null,
            "right": null,
            "top": null,
            "visibility": null,
            "width": null
          }
        },
        "7b6df50fc7964dba9caa3cd7f444b125": {
          "model_module": "@jupyter-widgets/controls",
          "model_module_version": "1.5.0",
          "model_name": "VBoxModel",
          "state": {
            "_dom_classes": [],
            "_model_module": "@jupyter-widgets/controls",
            "_model_module_version": "1.5.0",
            "_model_name": "VBoxModel",
            "_view_count": null,
            "_view_module": "@jupyter-widgets/controls",
            "_view_module_version": "1.5.0",
            "_view_name": "VBoxView",
            "box_style": "",
            "children": [
              "IPY_MODEL_8e1949139431403593e2573345efcce5",
              "IPY_MODEL_17c3dc9500fe49679de109d6fa1c907f"
            ],
            "layout": "IPY_MODEL_9203dc292cf34886aad8eb095e619702"
          }
        },
        "883a1336255444de91029f53c8d923cc": {
          "model_module": "@jupyter-widgets/controls",
          "model_module_version": "1.5.0",
          "model_name": "VBoxModel",
          "state": {
            "_dom_classes": [],
            "_model_module": "@jupyter-widgets/controls",
            "_model_module_version": "1.5.0",
            "_model_name": "VBoxModel",
            "_view_count": null,
            "_view_module": "@jupyter-widgets/controls",
            "_view_module_version": "1.5.0",
            "_view_name": "VBoxView",
            "box_style": "",
            "children": [
              "IPY_MODEL_cb408e7042a14979baf90ccd1dd1b6ea",
              "IPY_MODEL_63dc2c9f9691452cbbbb163680cc79d1"
            ],
            "layout": "IPY_MODEL_63670286bc81405fac3c2a974a1c099f"
          }
        },
        "8e1949139431403593e2573345efcce5": {
          "model_module": "@jupyter-widgets/controls",
          "model_module_version": "1.5.0",
          "model_name": "LabelModel",
          "state": {
            "_dom_classes": [],
            "_model_module": "@jupyter-widgets/controls",
            "_model_module_version": "1.5.0",
            "_model_name": "LabelModel",
            "_view_count": null,
            "_view_module": "@jupyter-widgets/controls",
            "_view_module_version": "1.5.0",
            "_view_name": "LabelView",
            "description": "",
            "description_tooltip": null,
            "layout": "IPY_MODEL_13ece419c8b645199442c17e51f93b3b",
            "placeholder": "​",
            "style": "IPY_MODEL_ad995003385c48539bf5341477840818",
            "value": "0.015 MB of 0.015 MB uploaded\r"
          }
        },
        "9203dc292cf34886aad8eb095e619702": {
          "model_module": "@jupyter-widgets/base",
          "model_module_version": "1.2.0",
          "model_name": "LayoutModel",
          "state": {
            "_model_module": "@jupyter-widgets/base",
            "_model_module_version": "1.2.0",
            "_model_name": "LayoutModel",
            "_view_count": null,
            "_view_module": "@jupyter-widgets/base",
            "_view_module_version": "1.2.0",
            "_view_name": "LayoutView",
            "align_content": null,
            "align_items": null,
            "align_self": null,
            "border": null,
            "bottom": null,
            "display": null,
            "flex": null,
            "flex_flow": null,
            "grid_area": null,
            "grid_auto_columns": null,
            "grid_auto_flow": null,
            "grid_auto_rows": null,
            "grid_column": null,
            "grid_gap": null,
            "grid_row": null,
            "grid_template_areas": null,
            "grid_template_columns": null,
            "grid_template_rows": null,
            "height": null,
            "justify_content": null,
            "justify_items": null,
            "left": null,
            "margin": null,
            "max_height": null,
            "max_width": null,
            "min_height": null,
            "min_width": null,
            "object_fit": null,
            "object_position": null,
            "order": null,
            "overflow": null,
            "overflow_x": null,
            "overflow_y": null,
            "padding": null,
            "right": null,
            "top": null,
            "visibility": null,
            "width": null
          }
        },
        "a7b39f849e7f493f99bcd28a7e941a17": {
          "model_module": "@jupyter-widgets/controls",
          "model_module_version": "1.5.0",
          "model_name": "DescriptionStyleModel",
          "state": {
            "_model_module": "@jupyter-widgets/controls",
            "_model_module_version": "1.5.0",
            "_model_name": "DescriptionStyleModel",
            "_view_count": null,
            "_view_module": "@jupyter-widgets/base",
            "_view_module_version": "1.2.0",
            "_view_name": "StyleView",
            "description_width": ""
          }
        },
        "ad995003385c48539bf5341477840818": {
          "model_module": "@jupyter-widgets/controls",
          "model_module_version": "1.5.0",
          "model_name": "DescriptionStyleModel",
          "state": {
            "_model_module": "@jupyter-widgets/controls",
            "_model_module_version": "1.5.0",
            "_model_name": "DescriptionStyleModel",
            "_view_count": null,
            "_view_module": "@jupyter-widgets/base",
            "_view_module_version": "1.2.0",
            "_view_name": "StyleView",
            "description_width": ""
          }
        },
        "ba39117bf94343b3aa99d6be875c46c5": {
          "model_module": "@jupyter-widgets/controls",
          "model_module_version": "1.5.0",
          "model_name": "ProgressStyleModel",
          "state": {
            "_model_module": "@jupyter-widgets/controls",
            "_model_module_version": "1.5.0",
            "_model_name": "ProgressStyleModel",
            "_view_count": null,
            "_view_module": "@jupyter-widgets/base",
            "_view_module_version": "1.2.0",
            "_view_name": "StyleView",
            "bar_color": null,
            "description_width": ""
          }
        },
        "cb408e7042a14979baf90ccd1dd1b6ea": {
          "model_module": "@jupyter-widgets/controls",
          "model_module_version": "1.5.0",
          "model_name": "LabelModel",
          "state": {
            "_dom_classes": [],
            "_model_module": "@jupyter-widgets/controls",
            "_model_module_version": "1.5.0",
            "_model_name": "LabelModel",
            "_view_count": null,
            "_view_module": "@jupyter-widgets/controls",
            "_view_module_version": "1.5.0",
            "_view_name": "LabelView",
            "description": "",
            "description_tooltip": null,
            "layout": "IPY_MODEL_7368ce476780436e8c8909c8beaf4c27",
            "placeholder": "​",
            "style": "IPY_MODEL_a7b39f849e7f493f99bcd28a7e941a17",
            "value": "58.739 MB of 58.739 MB uploaded\r"
          }
        }
      }
    }
  },
  "nbformat": 4,
  "nbformat_minor": 0
}
