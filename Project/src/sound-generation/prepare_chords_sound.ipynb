{
 "cells": [
  {
   "cell_type": "code",
   "execution_count": null,
   "metadata": {},
   "outputs": [],
   "source": [
    "# Use this notebook to extract specified chords from IDMT-SMT-Chords dataset\n",
    "# IDMT-SMT-Chords Dataset: https://www.idmt.fraunhofer.de/en/publications/datasets/chords.html\n",
    "# Download at https://zenodo.org/records/7544213\n",
    "\n",
    "from IPython.display import display, Audio\n",
    "from pydub import AudioSegment\n",
    "import numpy as np  \n",
    "import os"
   ]
  },
  {
   "cell_type": "code",
   "execution_count": null,
   "metadata": {},
   "outputs": [],
   "source": [
    "# Configurations *Change accordingly*\n",
    "\n",
    "chords = [\"C:maj\"] # possible chords, in <root:shorthand> format (e.g. C:maj, E:min, etc., check _readme.txt in dataset folder)\n",
    "dataset_root = \"./datasets/idmt-smt-chords/\" # where you unzip the whole dataset\n",
    "sound_setting_index = 0 # choose how your guitar sounds like (Check POSSIBLE_SOUND_SETTINGS)\n",
    "output_dir = \"./chords/\" # make sure that it exists"
   ]
  },
  {
   "cell_type": "code",
   "execution_count": null,
   "metadata": {},
   "outputs": [],
   "source": [
    "# Constants & Functions *Do not change*\n",
    "\n",
    "POSSIBLE_SOUND_SETTINGS = [\n",
    "    \"garageband_guitar_Acoustic_Guitar\", #0\n",
    "    \"ableton_live_guitar_Nylon_Concerto_Guitar\",\n",
    "    \"ableton_live_guitar_Campfire\",\n",
    "    \"garageband_guitar_Hard_Rock\",\n",
    "    \"ableton_live_guitar_Guitar_Open\",\n",
    "    \"garageband_guitar_Classic_Clean\"\n",
    "    ]\n",
    "\n",
    "WAV_FILE_PATH = os.path.join(dataset_root, \"guitar\", POSSIBLE_SOUND_SETTINGS[sound_setting_index] + \".wav\")\n",
    "ANNOTATION_FILE_PATH = os.path.join(dataset_root, \"guitar\", \"guitar_annotation.lab\")\n",
    "\n",
    "def crop_wav(file_path, start_time, end_time):\n",
    "    audio = AudioSegment.from_wav(file_path)\n",
    "    return audio[start_time*1000:end_time*1000]\n",
    "\n",
    "def crop_wav_to_numpy(file_path, start_time, end_time):\n",
    "    cropped_audio = crop_wav(file_path, start_time, end_time)\n",
    "    \n",
    "    samples = np.array(cropped_audio.get_array_of_samples())\n",
    "    \n",
    "    if cropped_audio.channels == 2:\n",
    "        samples = samples.reshape((-1, 2))\n",
    "    \n",
    "    return samples, cropped_audio.frame_rate\n",
    "\n",
    "def play_numpy_array(samples, sample_rate):\n",
    "    return Audio(samples, rate=sample_rate)\n",
    "\n",
    "def read_chord_annotations(file_path):\n",
    "    annotations = []\n",
    "    \n",
    "    with open(file_path, 'r') as file:\n",
    "        for line in file:\n",
    "            parts = line.strip().split('\\t')\n",
    "            if len(parts) == 3:\n",
    "                start_time, end_time, chord = parts\n",
    "                annotations.append({\n",
    "                    'start_time': float(start_time),\n",
    "                    'end_time': float(end_time),\n",
    "                    'chord': chord\n",
    "                })\n",
    "    \n",
    "    return annotations\n",
    "\n",
    "ANNOTATIONS = read_chord_annotations(ANNOTATION_FILE_PATH)\n",
    "\n",
    "\n",
    "def find_chord_annotation_lowest_pitch(chord):\n",
    "    for annotation in ANNOTATIONS:\n",
    "        if annotation['chord'] == chord:\n",
    "            return annotation\n",
    "    raise ValueError(f\"Chord {chord} not found in annotations\")\n",
    "\n",
    "def get_chord_numpy_lowest_pitch(chord):\n",
    "    annotation = find_chord_annotation_lowest_pitch(chord)\n",
    "    pressure_array, sample_rate = crop_wav_to_numpy(WAV_FILE_PATH, annotation[\"start_time\"], annotation[\"end_time\"])\n",
    "    return pressure_array, sample_rate\n",
    "\n",
    "def crop_and_save_chord_lowest_pitch(chord):\n",
    "    annotation = find_chord_annotation_lowest_pitch(chord)\n",
    "    cropped_audio = crop_wav(WAV_FILE_PATH, annotation[\"start_time\"], annotation[\"end_time\"])\n",
    "    cropped_audio.export(os.path.join(output_dir, chord + \".wav\"), format=\"wav\")"
   ]
  },
  {
   "cell_type": "code",
   "execution_count": null,
   "metadata": {},
   "outputs": [],
   "source": [
    "# Try out segment for C Major chord\n",
    "arr, rate = get_chord_numpy_low_pitch(\"D:min\")\n",
    "audio_widget = play_numpy_array(arr, rate)\n",
    "display(audio_widget)"
   ]
  },
  {
   "cell_type": "code",
   "execution_count": null,
   "metadata": {},
   "outputs": [],
   "source": [
    "# Crop out specified chords and save to output directory\n",
    "for chord in chords:\n",
    "    crop_and_save_chord_lowest_pitch(chord)"
   ]
  }
 ],
 "metadata": {
  "kernelspec": {
   "display_name": "hlcv",
   "language": "python",
   "name": "python3"
  },
  "language_info": {
   "codemirror_mode": {
    "name": "ipython",
    "version": 3
   },
   "file_extension": ".py",
   "mimetype": "text/x-python",
   "name": "python",
   "nbconvert_exporter": "python",
   "pygments_lexer": "ipython3",
   "version": "3.12.4"
  }
 },
 "nbformat": 4,
 "nbformat_minor": 2
}
