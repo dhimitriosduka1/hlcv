{
 "cells": [
  {
   "cell_type": "code",
   "execution_count": 1,
   "metadata": {},
   "outputs": [],
   "source": [
    "# Just so that you don't have to restart the notebook with every change.\n",
    "%load_ext autoreload\n",
    "%autoreload 2 "
   ]
  },
  {
   "cell_type": "code",
   "execution_count": 2,
   "metadata": {},
   "outputs": [
    {
     "name": "stderr",
     "output_type": "stream",
     "text": [
      "/home/dhimitriosduka/miniconda3/envs/hlcv/lib/python3.12/site-packages/tqdm/auto.py:21: TqdmWarning: IProgress not found. Please update jupyter and ipywidgets. See https://ipywidgets.readthedocs.io/en/stable/user_install.html\n",
      "  from .autonotebook import tqdm as notebook_tqdm\n"
     ]
    }
   ],
   "source": [
    "import os\n",
    "from functools import partial\n",
    "\n",
    "import matplotlib.pyplot as plt\n",
    "import numpy as np\n",
    "import scienceplots\n",
    "from dimensionality_reduction import *\n",
    "from PIL import Image\n",
    "\n",
    "plt.style.use([\"science\", \"ieee\", \"no-latex\", \"std-colors\"])\n",
    "\n",
    "\n",
    "def load_and_flatten_image(image_path):\n",
    "    img = Image.open(image_path).resize((32, 32))  # Resize to a manageable size\n",
    "    img_array = np.array(img).flatten()\n",
    "    return img_array / 255.0  # Normalize to [0, 1]\n",
    "\n",
    "\n",
    "# Function to plot and save results\n",
    "def plot_and_save(result, method_name, dataset_name, labels) -> None:\n",
    "    plt.figure(figsize=(6, 4))\n",
    "    for class_dir in class_dirs:\n",
    "        mask = labels == class_dir\n",
    "        plt.scatter(result[mask, 0], result[mask, 1], label=class_dir, s=5)\n",
    "    plt.legend()\n",
    "    plt.title(f\"{dataset_name} {method_name} Visualization\")\n",
    "    plt.savefig(f\"{dataset_name}_{method_name.lower()}_plot.png\", dpi=300)\n",
    "    plt.close()\n",
    "\n",
    "\n",
    "# ds_name = \"merged_ds\"\n",
    "# ds_name = \"guitar-chords-tiny\"\n",
    "ds_name = \"guitar-chords-ours-A-G\"\n",
    "\n",
    "dataset_names = {\n",
    "    \"merged_ds\": \"Guitar-chords (Merged)\",\n",
    "    \"guitar-chords-tiny\": \"Guitar-chords-tiny\",\n",
    "    \"guitar-chords-ours-A-G\": \"Guitar-chords-ours\",\n",
    "}\n",
    "\n",
    "dataset_real_name = dataset_names[ds_name]\n",
    "\n",
    "path = f\"/home/dhimitriosduka/Documents/UdS/SoSe 2024/High-Level Computer Vision/Assignments/Datasets/Videos/sampled/\"\n",
    "# path = os.path.join(os.getcwd(), \"Used Datasets\", ds_name)\n",
    "\n",
    "# Directories\n",
    "base_dirs = [os.path.join(path, \"train\"), os.path.join(path, \"test\"), os.path.join(path, \"valid\")]\n",
    "class_dirs = [\"A\", \"B\", \"C\", \"D\", \"E\", \"F\", \"G\", \"Am\", \"Bm\", \"Cm\", \"Dm\", \"Em\", \"Fm\", \"Gm\"]"
   ]
  },
  {
   "cell_type": "code",
   "execution_count": 3,
   "metadata": {},
   "outputs": [
    {
     "ename": "FileNotFoundError",
     "evalue": "[Errno 2] No such file or directory: '/home/dhimitriosduka/Documents/UdS/SoSe 2024/High-Level Computer Vision/Assignments/Datasets/Videos/sampled/train/train/A'",
     "output_type": "error",
     "traceback": [
      "\u001b[0;31m---------------------------------------------------------------------------\u001b[0m",
      "\u001b[0;31mFileNotFoundError\u001b[0m                         Traceback (most recent call last)",
      "Cell \u001b[0;32mIn[3], line 8\u001b[0m\n\u001b[1;32m      6\u001b[0m \u001b[38;5;28;01mfor\u001b[39;00m class_dir \u001b[38;5;129;01min\u001b[39;00m class_dirs:\n\u001b[1;32m      7\u001b[0m     dir_path \u001b[38;5;241m=\u001b[39m os\u001b[38;5;241m.\u001b[39mpath\u001b[38;5;241m.\u001b[39mjoin(base_dir, class_dir)\n\u001b[0;32m----> 8\u001b[0m     \u001b[38;5;28;01mfor\u001b[39;00m filename \u001b[38;5;129;01min\u001b[39;00m \u001b[43mos\u001b[49m\u001b[38;5;241;43m.\u001b[39;49m\u001b[43mlistdir\u001b[49m\u001b[43m(\u001b[49m\u001b[43mdir_path\u001b[49m\u001b[43m)\u001b[49m:\n\u001b[1;32m      9\u001b[0m         \u001b[38;5;28;01mif\u001b[39;00m filename\u001b[38;5;241m.\u001b[39mendswith(\u001b[38;5;124m\"\u001b[39m\u001b[38;5;124m.jpg\u001b[39m\u001b[38;5;124m\"\u001b[39m):\n\u001b[1;32m     10\u001b[0m             image_path \u001b[38;5;241m=\u001b[39m os\u001b[38;5;241m.\u001b[39mpath\u001b[38;5;241m.\u001b[39mjoin(dir_path, filename)\n",
      "\u001b[0;31mFileNotFoundError\u001b[0m: [Errno 2] No such file or directory: '/home/dhimitriosduka/Documents/UdS/SoSe 2024/High-Level Computer Vision/Assignments/Datasets/Videos/sampled/train/train/A'"
     ]
    }
   ],
   "source": [
    "# Collect data and labels\n",
    "data = []\n",
    "labels = []\n",
    "\n",
    "for base_dir in base_dirs:\n",
    "    for class_dir in class_dirs:\n",
    "        dir_path = os.path.join(base_dir, class_dir)\n",
    "        for filename in os.listdir(dir_path):\n",
    "            if filename.endswith(\".jpg\"):\n",
    "                image_path = os.path.join(dir_path, filename)\n",
    "                img_data = load_and_flatten_image(image_path)\n",
    "                data.append(img_data)\n",
    "                labels.append(class_dir)\n",
    "\n",
    "data = np.array(data)\n",
    "labels = np.array(labels)"
   ]
  },
  {
   "cell_type": "code",
   "execution_count": 4,
   "metadata": {},
   "outputs": [
    {
     "name": "stdout",
     "output_type": "stream",
     "text": [
      "ICA done for Guitar-chords-ours, saved as Guitar-chords-ours_ica_plot.png\n"
     ]
    }
   ],
   "source": [
    "try_these_methods = [\"ICA\"]  # [\"t-SNE\", \"PCA\", \"UMAP\", \"LDA\"]\n",
    "\n",
    "FUNCS = {\n",
    "    \"PCA\": apply_pca,\n",
    "    \"ICA\": apply_ica,\n",
    "    \"LDA\": apply_lda,\n",
    "    \"t-SNE\": apply_tsne,\n",
    "    \"UMAP\": partial(apply_umap, n_neighbors=15, min_dist=0.1, metric=\"euclidean\", n_jobs=-1),\n",
    "}\n",
    "\n",
    "for method in try_these_methods:\n",
    "    func = FUNCS[method]\n",
    "    if method == \"LDA\":\n",
    "        result = func(data, labels)\n",
    "    else:\n",
    "        result = func(data)\n",
    "    plot_and_save(result, method, dataset_real_name, labels)\n",
    "    print(f\"{method} done for {dataset_real_name}, saved as {dataset_real_name}_{method.lower()}_plot.png\")"
   ]
  }
 ],
 "metadata": {
  "kernelspec": {
   "display_name": "gpu",
   "language": "python",
   "name": "python3"
  },
  "language_info": {
   "codemirror_mode": {
    "name": "ipython",
    "version": 3
   },
   "file_extension": ".py",
   "mimetype": "text/x-python",
   "name": "python",
   "nbconvert_exporter": "python",
   "pygments_lexer": "ipython3",
   "version": "3.12.3"
  }
 },
 "nbformat": 4,
 "nbformat_minor": 2
}
