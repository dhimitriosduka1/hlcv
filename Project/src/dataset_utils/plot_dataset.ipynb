{
 "cells": [
  {
   "cell_type": "code",
   "execution_count": 14,
   "metadata": {},
   "outputs": [
    {
     "name": "stdout",
     "output_type": "stream",
     "text": [
      "The autoreload extension is already loaded. To reload it, use:\n",
      "  %reload_ext autoreload\n"
     ]
    }
   ],
   "source": [
    "# Just so that you don't have to restart the notebook with every change.\n",
    "%load_ext autoreload\n",
    "%autoreload 2 "
   ]
  },
  {
   "cell_type": "code",
   "execution_count": 16,
   "metadata": {},
   "outputs": [],
   "source": [
    "import os\n",
    "from functools import partial\n",
    "\n",
    "import matplotlib.pyplot as plt\n",
    "import numpy as np\n",
    "import scienceplots\n",
    "from dimensionality_reduction import *\n",
    "from PIL import Image\n",
    "\n",
    "plt.style.use([\"science\", \"ieee\", \"no-latex\", \"std-colors\"])\n",
    "\n",
    "\n",
    "def load_and_flatten_image(image_path):\n",
    "    img = Image.open(image_path).resize((32, 32))  # Resize to a manageable size\n",
    "    img_array = np.array(img).flatten()\n",
    "    return img_array / 255.0  # Normalize to [0, 1]\n",
    "\n",
    "\n",
    "# Function to plot and save results\n",
    "def plot_and_save(result, method_name, dataset_name, labels) -> None:\n",
    "    plt.figure(figsize=(6, 4))\n",
    "    for class_dir in class_dirs:\n",
    "        mask = labels == class_dir\n",
    "        plt.scatter(result[mask, 0], result[mask, 1], label=class_dir, s=5)\n",
    "    plt.legend(loc=\"center left\", bbox_to_anchor=(1, 0.5), ncol=2, fontsize=14)\n",
    "    # plt.title(f\"{dataset_name} {method_name} Visualization\")\n",
    "    plt.savefig(f\"{dataset_name}_{method_name.lower()}_plot.png\", dpi=600)\n",
    "    plt.close()\n",
    "\n",
    "\n",
    "# ds_name = \"merged_ds\"\n",
    "# ds_name = \"guitar-chords-tiny\"\n",
    "ds_name = \"guitar-chords-ours-A-G\"\n",
    "\n",
    "dataset_names = {\n",
    "    \"merged_ds\": \"Guitar-chords (Merged)\",\n",
    "    \"guitar-chords-tiny\": \"Guitar-chords-tiny\",\n",
    "    \"guitar-chords-ours-A-G\": \"Guitar-chords-ours\",\n",
    "}\n",
    "\n",
    "dataset_real_name = dataset_names[ds_name]\n",
    "\n",
    "path = f\"/home/dhimitriosduka/Documents/UdS/SoSe 2024/High-Level Computer Vision/Assignments/Datasets/Videos/sampled/\"\n",
    "# path = os.path.join(os.getcwd(), \"Used Datasets\", ds_name)\n",
    "\n",
    "# Directories\n",
    "base_dirs = [os.path.join(path, \"train\")]\n",
    "class_dirs = [\"A\", \"B\", \"C\", \"D\", \"E\", \"F\", \"G\", \"Am\", \"Bm\", \"Cm\", \"Dm\", \"Em\", \"Fm\", \"Gm\"]"
   ]
  },
  {
   "cell_type": "code",
   "execution_count": 17,
   "metadata": {},
   "outputs": [],
   "source": [
    "# Collect data and labels\n",
    "data = []\n",
    "labels = []\n",
    "\n",
    "for base_dir in base_dirs:\n",
    "    for class_dir in class_dirs:\n",
    "        dir_path = os.path.join(base_dir, class_dir)\n",
    "        for filename in os.listdir(dir_path):\n",
    "            if filename.endswith(\".jpg\"):\n",
    "                image_path = os.path.join(dir_path, filename)\n",
    "                img_data = load_and_flatten_image(image_path)\n",
    "                data.append(img_data)\n",
    "                labels.append(class_dir)\n",
    "\n",
    "data = np.array(data)\n",
    "labels = np.array(labels)"
   ]
  },
  {
   "cell_type": "code",
   "execution_count": 18,
   "metadata": {},
   "outputs": [
    {
     "name": "stdout",
     "output_type": "stream",
     "text": [
      "Applying t-SNE (perplexity=133, learning_rate=1108) using opentsne\n",
      "t-SNE done for Guitar-chords-ours, saved as Guitar-chords-ours_t-sne_plot.png\n"
     ]
    }
   ],
   "source": [
    "try_these_methods = [\"t-SNE\"]  # [\"t-SNE\", \"PCA\", \"UMAP\", \"LDA\"]\n",
    "\n",
    "FUNCS = {\n",
    "    \"PCA\": apply_pca,\n",
    "    \"ICA\": apply_ica,\n",
    "    \"LDA\": apply_lda,\n",
    "    \"t-SNE\": apply_tsne,\n",
    "    \"UMAP\": partial(apply_umap, n_neighbors=15, min_dist=0.1, metric=\"euclidean\", n_jobs=-1),\n",
    "}\n",
    "\n",
    "for method in try_these_methods:\n",
    "    func = FUNCS[method]\n",
    "    if method == \"LDA\":\n",
    "        result = func(data, labels)\n",
    "    else:\n",
    "        result = func(data)\n",
    "    plot_and_save(result, method, dataset_real_name, labels)\n",
    "    print(f\"{method} done for {dataset_real_name}, saved as {dataset_real_name}_{method.lower()}_plot.png\")"
   ]
  }
 ],
 "metadata": {
  "kernelspec": {
   "display_name": "gpu",
   "language": "python",
   "name": "python3"
  },
  "language_info": {
   "codemirror_mode": {
    "name": "ipython",
    "version": 3
   },
   "file_extension": ".py",
   "mimetype": "text/x-python",
   "name": "python",
   "nbconvert_exporter": "python",
   "pygments_lexer": "ipython3",
   "version": "3.12.3"
  }
 },
 "nbformat": 4,
 "nbformat_minor": 2
}
